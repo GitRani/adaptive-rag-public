{
 "cells": [
  {
   "cell_type": "code",
   "execution_count": null,
   "id": "d5b0fa75",
   "metadata": {},
   "outputs": [],
   "source": [
    "from transformers import AutoTokenizer, AutoModelForSequenceClassification\n",
    "import torch\n",
    "\n",
    "# 모델 로딩\n",
    "tokenizer = AutoTokenizer.from_pretrained(\"BAAI/bge-reranker-large\")\n",
    "model = AutoModelForSequenceClassification.from_pretrained(\"BAAI/bge-reranker-large\")\n",
    "model.eval()\n",
    "\n",
    "# 쿼리\n",
    "query = \"fruits that are red\"\n",
    "\n",
    "# 6개의 항목 (keyword or vector → 텍스트 형태로 가정)\n",
    "docs = [\n",
    "    \"apple\",\n",
    "    \"banana\",\n",
    "    \"cherry\",\n",
    "    \"vector 1\",\n",
    "    \"vector 2\",\n",
    "    \"vector 3\"\n",
    "]\n",
    "\n",
    "# 입력 포맷: (query, doc) 쌍\n",
    "pairs = [(query, doc) for doc in docs]\n",
    "\n",
    "# 토크나이즈\n",
    "inputs = tokenizer(pairs, padding=True, truncation=True, return_tensors=\"pt\")\n",
    "\n",
    "# 모델 추론\n",
    "with torch.no_grad():\n",
    "    scores = model(**inputs).logits.squeeze(-1)\n",
    "\n",
    "# 정렬\n",
    "reranked = sorted(zip(docs, scores.tolist()), key=lambda x: x[1], reverse=True)\n",
    "\n",
    "# 결과 출력\n",
    "for doc, score in reranked:\n",
    "    print(f\"{score:.4f} → {doc}\")"
   ]
  }
 ],
 "metadata": {
  "kernelspec": {
   "display_name": "adaptive-rag",
   "language": "python",
   "name": "python3"
  },
  "language_info": {
   "name": "python",
   "version": "3.11.11"
  }
 },
 "nbformat": 4,
 "nbformat_minor": 5
}
