{
 "cells": [
  {
   "cell_type": "code",
   "execution_count": 4,
   "id": "ece589e0",
   "metadata": {},
   "outputs": [
    {
     "data": {
      "text/plain": [
       "PosixPath('/Users/ranifarm/python-work/adaptive-rag-public/unit_test')"
      ]
     },
     "execution_count": 4,
     "metadata": {},
     "output_type": "execute_result"
    }
   ],
   "source": [
    "from pathlib import Path\n",
    "\n",
    "base_path = Path.cwd()  # 현재 디렉토리\n",
    "base_path"
   ]
  },
  {
   "cell_type": "code",
   "execution_count": 29,
   "id": "7e2ef1fb",
   "metadata": {},
   "outputs": [
    {
     "name": "stdout",
     "output_type": "stream",
     "text": [
      "==== condition ==== ::  최저임금\n",
      "DB 연결 종료!\n"
     ]
    },
    {
     "data": {
      "text/plain": [
       "6"
      ]
     },
     "execution_count": 29,
     "metadata": {},
     "output_type": "execute_result"
    }
   ],
   "source": [
    "import sys\n",
    "import os\n",
    "\n",
    "sys.path.append(os.path.abspath(\"../\"))  # utils가 상위 폴더에 있을 경우\n",
    "\n",
    "from utils.postgresql import keyword_search\n",
    "from utils.milvus import semantic_search\n",
    "\n",
    "query = \"최저임금\"\n",
    "\n",
    "keyword_json = keyword_search(query, 3)\n",
    "semantic_json = semantic_search(query, 3)\n",
    "\n",
    "hybrid_json = keyword_json + semantic_json\n",
    "len(hybrid_json)"
   ]
  },
  {
   "cell_type": "code",
   "execution_count": 30,
   "id": "d056be97",
   "metadata": {},
   "outputs": [
    {
     "data": {
      "text/plain": [
       "{'search_type': 'keyword',\n",
       " 'file_seq': 3,\n",
       " 'passage_seq': 12,\n",
       " 'regist_id': 'unknown',\n",
       " 'regist_dt': '',\n",
       " 'modify_dt': ''}"
      ]
     },
     "execution_count": 30,
     "metadata": {},
     "output_type": "execute_result"
    }
   ],
   "source": [
    "# keyword search result\n",
    "hybrid_json[0]['metadata']"
   ]
  },
  {
   "cell_type": "code",
   "execution_count": 31,
   "id": "a1a2fd11",
   "metadata": {},
   "outputs": [
    {
     "data": {
      "text/plain": [
       "{'search_type': 'vector',\n",
       " 'file_seq': 40,\n",
       " 'passage_seq': 4,\n",
       " 'regist_id': 'unknown',\n",
       " 'regist_dt': '',\n",
       " 'modify_dt': ''}"
      ]
     },
     "execution_count": 31,
     "metadata": {},
     "output_type": "execute_result"
    }
   ],
   "source": [
    "# semantic search result\n",
    "hybrid_json[-1]['metadata']"
   ]
  },
  {
   "cell_type": "code",
   "execution_count": null,
   "id": "91367ed8",
   "metadata": {},
   "outputs": [],
   "source": [
    "# data full field check\n",
    "hybrid_json[0]"
   ]
  },
  {
   "cell_type": "code",
   "execution_count": 32,
   "id": "f68f568d",
   "metadata": {},
   "outputs": [
    {
     "data": {
      "text/plain": [
       "6"
      ]
     },
     "execution_count": 32,
     "metadata": {},
     "output_type": "execute_result"
    }
   ],
   "source": [
    "# remove duplicate \n",
    "seen = set()\n",
    "hybrid_new_json = []\n",
    "\n",
    "for data in hybrid_json:\n",
    "    field_pair = (data['metadata']['file_seq'], data['metadata']['passage_seq'])\n",
    "    if field_pair not in seen:\n",
    "        seen.add(field_pair)\n",
    "        hybrid_new_json.append(data)\n",
    "\n",
    "hybrid_json = hybrid_new_json\n",
    "len(hybrid_json)"
   ]
  },
  {
   "cell_type": "code",
   "execution_count": 33,
   "id": "58d5194b",
   "metadata": {},
   "outputs": [],
   "source": [
    "from sentence_transformers import CrossEncoder\n",
    "\n",
    "# 모델 로드\n",
    "reranker = CrossEncoder(\"BAAI/bge-reranker-v2-m3\")"
   ]
  },
  {
   "cell_type": "code",
   "execution_count": 34,
   "id": "0a3572fb",
   "metadata": {},
   "outputs": [
    {
     "data": {
      "text/plain": [
       "6"
      ]
     },
     "execution_count": 34,
     "metadata": {},
     "output_type": "execute_result"
    }
   ],
   "source": [
    "documents = [\n",
    "    {\n",
    "        \"file_seq\": data['metadata']['file_seq'],\n",
    "        \"passage_seq\": data['metadata']['passage_seq'],\n",
    "        \"text\": f\"{data['file_name']}: {data['content']} (Pages: {data['page_numbers']})\"\n",
    "    }\n",
    "    for data in hybrid_json\n",
    "]\n",
    "\n",
    "pairs = [[query, doc['text']] for doc in documents]\n",
    "\n",
    "len(pairs)"
   ]
  },
  {
   "cell_type": "code",
   "execution_count": 35,
   "id": "c6e5d444",
   "metadata": {},
   "outputs": [
    {
     "data": {
      "text/plain": [
       "array([0.1284332 , 0.14767548, 0.2422166 , 0.9733666 , 0.9736105 ,\n",
       "       0.9412051 ], dtype=float32)"
      ]
     },
     "execution_count": 35,
     "metadata": {},
     "output_type": "execute_result"
    }
   ],
   "source": [
    "scores = reranker.predict(pairs)\n",
    "scores"
   ]
  },
  {
   "cell_type": "code",
   "execution_count": 36,
   "id": "54f05a2d",
   "metadata": {},
   "outputs": [
    {
     "data": {
      "text/plain": [
       "{'3_12': 0.1284332,\n",
       " '87_19': 0.14767548,\n",
       " '108_96': 0.2422166,\n",
       " '40_3': 0.9733666,\n",
       " '40_0': 0.9736105,\n",
       " '40_4': 0.9412051}"
      ]
     },
     "execution_count": 36,
     "metadata": {},
     "output_type": "execute_result"
    }
   ],
   "source": [
    "# file_seq 와 passage_seq 둘 다 비교해서 판별해야 함.\n",
    "id_to_score = {f\"{doc['file_seq']}_{doc['passage_seq']}\": score for doc, score in zip(documents, scores)}\n",
    "id_to_score"
   ]
  },
  {
   "cell_type": "code",
   "execution_count": null,
   "id": "33f367c1",
   "metadata": {},
   "outputs": [],
   "source": [
    "# 기존 스코어는 메타데이터에 넣고 새로운 스코어는 리랭크 점수로 업데이트.\n",
    "for hdata in hybrid_json:\n",
    "    hdata[\"metadata\"][\"prev_score\"] = hdata[\"score\"]\n",
    "    fseq = hdata[\"metadata\"][\"file_seq\"]\n",
    "    pseq = hdata[\"metadata\"][\"passage_seq\"]\n",
    "    hdata[\"score\"] = id_to_score[f\"{fseq}_{pseq}\"]\n",
    "\n",
    "\n",
    "hybrid_json"
   ]
  },
  {
   "cell_type": "code",
   "execution_count": 38,
   "id": "b79f69ab",
   "metadata": {},
   "outputs": [],
   "source": [
    "hybrid_json.sort(key=lambda x:x['score'], reverse=True)"
   ]
  },
  {
   "cell_type": "code",
   "execution_count": null,
   "id": "e96f2930",
   "metadata": {},
   "outputs": [],
   "source": [
    "# 완료!!\n",
    "hybrid_json[:4]"
   ]
  }
 ],
 "metadata": {
  "kernelspec": {
   "display_name": "adaptive-rag",
   "language": "python",
   "name": "python3"
  },
  "language_info": {
   "codemirror_mode": {
    "name": "ipython",
    "version": 3
   },
   "file_extension": ".py",
   "mimetype": "text/x-python",
   "name": "python",
   "nbconvert_exporter": "python",
   "pygments_lexer": "ipython3",
   "version": "3.11.11"
  }
 },
 "nbformat": 4,
 "nbformat_minor": 5
}
