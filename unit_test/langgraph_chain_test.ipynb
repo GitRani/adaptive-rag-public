{
 "cells": [
  {
   "cell_type": "markdown",
   "id": "8350769e",
   "metadata": {},
   "source": [
    "<h1>아래 꼭 import하고 진행하세요!</h1>"
   ]
  },
  {
   "cell_type": "code",
   "execution_count": 3,
   "id": "9db05edd",
   "metadata": {},
   "outputs": [
    {
     "name": "stdout",
     "output_type": "stream",
     "text": [
      "https://api.smith.langchain.com\n"
     ]
    }
   ],
   "source": [
    "\n",
    "import sys\n",
    "import os\n",
    "\n",
    "# langgraph_project 디렉토리를 sys.path에 추가\n",
    "project_root = os.path.abspath(\"..\")  # unit_test의 상위 디렉토리\n",
    "sys.path.append(project_root)\n",
    "\n",
    "from chains.rag_chain import *\n",
    "from vectorstore.pdf import PDFRetrievalChain\n",
    "from tools.search import tavily_search\n",
    "from langchain_core.prompts import load_prompt\n",
    "from pathlib import Path\n",
    "from dotenv import load_dotenv\n",
    "from graph.workflow import build_workflow\n",
    "from IPython.display import Image, display\n",
    "from langchain_teddynote.messages import stream_graph, random_uuid\n",
    "from langchain_core.runnables import RunnableConfig\n",
    "from langchain.callbacks import tracing_v2_enabled\n",
    "\n",
    "\n",
    "load_dotenv()\n",
    "print(os.getenv('LANGCHAIN_ENDPOINT'))\n",
    "\n",
    "\n",
    "q1 = '산업안전보건법 적용범위 판단기준'\n",
    "q2 = '산업안전보건법을 전부 적용 가능하면 지방자치단체 소속 공무직 및 공공근로 등 단기간 근로자수를 합산하여 총 근로자수로 판단 가능한지?'"
   ]
  },
  {
   "cell_type": "markdown",
   "id": "bb0d973e",
   "metadata": {},
   "source": [
    "Chain Test"
   ]
  },
  {
   "cell_type": "code",
   "execution_count": 4,
   "id": "43edea1b",
   "metadata": {},
   "outputs": [
    {
     "name": "stdout",
     "output_type": "stream",
     "text": [
      "next_node='vector'\n"
     ]
    }
   ],
   "source": [
    "# 1 확인 완료 (vector_websearch_chain)\n",
    "print(vector_websearch_chain().invoke({\"question\": q1}))"
   ]
  },
  {
   "cell_type": "code",
   "execution_count": 5,
   "id": "1bf1495f",
   "metadata": {},
   "outputs": [
    {
     "name": "stderr",
     "output_type": "stream",
     "text": [
      "CropBox missing from /Page, defaulting to MediaBox\n",
      "CropBox missing from /Page, defaulting to MediaBox\n",
      "CropBox missing from /Page, defaulting to MediaBox\n",
      "/Users/ranifarm/.conda/envs/adaptive-rag/lib/python3.11/site-packages/tqdm/auto.py:21: TqdmWarning: IProgress not found. Please update jupyter and ipywidgets. See https://ipywidgets.readthedocs.io/en/stable/user_install.html\n",
      "  from .autonotebook import tqdm as notebook_tqdm\n"
     ]
    },
    {
     "name": "stdout",
     "output_type": "stream",
     "text": [
      "[DEBUG] embedding 객체 타입: <class 'langchain_huggingface.embeddings.huggingface.HuggingFaceEmbeddings'>\n",
      "10\n",
      "==============\n",
      "[검토 내용]\n",
      "page_content='지방자치단체 고발사건 관련 중부청 질의에 대한 회신\n",
      "□ 산업안전보건법의 적용범위 판단 기준\n",
      "○ ｢산업안전보건법｣은 국가·지방자치단체를 포함하여 모든 사업 또는\n",
      "사업장에 적용됨을 원칙(법 제3조)으로 하고 있으나\n",
      "- 유해·위험의 정도, 사업의 종류 등을 고려하여 시행령 별표 1에서\n",
      "정한 일부 사업에는 법의 일부규정을 적용하지 않고\n",
      "- 특히, 공공행정, 교육서비스업 등에는 법 제2장(안전보건관리체제),\n",
      "제3장(안전보건관리규정), 제31조(안전보건교육) 등을 적용제외로 규정함' metadata={'source': '/Users/ranifarm/python-work/adaptive-rag/vectorstore/data/지방자치단체 산안법 적용 (산재예방정책과-3018 (2018.07.06. 시행).pdf', 'file_path': '/Users/ranifarm/python-work/adaptive-rag/vectorstore/data/지방자치단체 산안법 적용 (산재예방정책과-3018 (2018.07.06. 시행).pdf', 'page': 0, 'total_pages': 3, 'Author': 'dw', 'CreationDate': \"D:20241223160641+09'00'\", 'Creator': 'Hwp 2022 12.0.0.2416', 'ModDate': \"D:20241223160641+09'00'\", 'PDFVersion': '1.4', 'Producer': 'Hancom PDF 1.3.0.545'}\n",
      "[판단 결과]\n",
      "pass_yn='N'\n",
      "==============\n",
      "[검토 내용]\n",
      "page_content='제3장(안전보건관리규정), 제31조(안전보건교육) 등을 적용제외로 규정함\n",
      "○ ｢산업안전보건법｣은 그 적용단위가 “사업 또는 사업장”이며 사업\n",
      "의 분류는 ｢통계법｣에 따라 고시한 한국표준산업분류에 따라 판단\n",
      "하되,\n",
      "- 기본적으로 근로자를 고용한 사업주의 사업장 단위로 적용범위\n",
      "를 판단함이 타당\n",
      "<사업 또는 사업장 판단기준>\n",
      "사업장의 개념은 주로 장소적 관념에 따라 결정해야 할 것이고 동일한 장소에\n",
      "있으면 원칙적으로 분리하지 않고 하나의 사업장으로 보며, 장소적으로 분산' metadata={'source': '/Users/ranifarm/python-work/adaptive-rag/vectorstore/data/지방자치단체 산안법 적용 (산재예방정책과-3018 (2018.07.06. 시행).pdf', 'file_path': '/Users/ranifarm/python-work/adaptive-rag/vectorstore/data/지방자치단체 산안법 적용 (산재예방정책과-3018 (2018.07.06. 시행).pdf', 'page': 0, 'total_pages': 3, 'Author': 'dw', 'CreationDate': \"D:20241223160641+09'00'\", 'Creator': 'Hwp 2022 12.0.0.2416', 'ModDate': \"D:20241223160641+09'00'\", 'PDFVersion': '1.4', 'Producer': 'Hancom PDF 1.3.0.545'}\n",
      "[판단 결과]\n",
      "pass_yn='N'\n",
      "==============\n",
      "[검토 내용]\n",
      "page_content='장비유지관리, 현장공사, 현장지도 단속·감시 등 현업업무는 별도로\n",
      "해당 업무와 유사한 업종에 따라 ｢산업안전보건법｣ 적용 여부를 판단\n",
      "해야 할 것이므로 산업안전보건법이 전부 적용됨\n",
      "2. 현업의 업종을 판단할 때 공무직 및 공공근로 등 단기간 근로자를\n",
      "포함하여 채용인원이 가장 많은 상위 2~3개 부서의 현업업무의 업\n",
      "종을 주된 업종으로 판단하여 산업안전보건법을 적용 가능한지?\n",
      "○ 지방자치단체를 하나의 사업장으로 보아 공공행정에 해당하는 일반\n",
      "행정사무 외의 다양한 현업업무는 가장 많은 비율을 차지하는 현업' metadata={'source': '/Users/ranifarm/python-work/adaptive-rag/vectorstore/data/지방자치단체 산안법 적용 (산재예방정책과-3018 (2018.07.06. 시행).pdf', 'file_path': '/Users/ranifarm/python-work/adaptive-rag/vectorstore/data/지방자치단체 산안법 적용 (산재예방정책과-3018 (2018.07.06. 시행).pdf', 'page': 2, 'total_pages': 3, 'Author': 'dw', 'CreationDate': \"D:20241223160641+09'00'\", 'Creator': 'Hwp 2022 12.0.0.2416', 'ModDate': \"D:20241223160641+09'00'\", 'PDFVersion': '1.4', 'Producer': 'Hancom PDF 1.3.0.545'}\n",
      "[판단 결과]\n",
      "pass_yn='Y'\n",
      "==============\n",
      "[검토 내용]\n",
      "page_content='행정사무 외의 다양한 현업업무는 가장 많은 비율을 차지하는 현업\n",
      "업무종사자의 업태와 유사한 업종을 기준으로 판단하여야 할 것임\n",
      "3. 산업안전보건법을 전부 적용 가능하면 지방자치단체 소속 공무직\n",
      "및 공공근로 등 단기간 근로자수를 합산하여 총 근로자수로 판단\n",
      "가능한지?\n",
      "○ 법 적용을 위한 상시근로자수 판단에 있어서는 해당 조문이 적용\n",
      "되는 범위에서의 상시근로자수를 판단하여야 함\n",
      "- 즉, 공공행정에 해당하는 업무 외 현업업무에 해당하여 산업안전\n",
      "보건법 관련 규정을 적용할 때에는 지자체를 하나의 사업장으로' metadata={'source': '/Users/ranifarm/python-work/adaptive-rag/vectorstore/data/지방자치단체 산안법 적용 (산재예방정책과-3018 (2018.07.06. 시행).pdf', 'file_path': '/Users/ranifarm/python-work/adaptive-rag/vectorstore/data/지방자치단체 산안법 적용 (산재예방정책과-3018 (2018.07.06. 시행).pdf', 'page': 2, 'total_pages': 3, 'Author': 'dw', 'CreationDate': \"D:20241223160641+09'00'\", 'Creator': 'Hwp 2022 12.0.0.2416', 'ModDate': \"D:20241223160641+09'00'\", 'PDFVersion': '1.4', 'Producer': 'Hancom PDF 1.3.0.545'}\n",
      "[판단 결과]\n",
      "pass_yn='Y'\n",
      "==============\n",
      "[검토 내용]\n",
      "page_content='규정은 전체 지자체 종사자를 상시근로자로 파악하여 적용하고,\n",
      "적용제외 규정이나 예외적으로 현업종사자를 대상으로 적용되는\n",
      "규정은(제2장 등)은 그 적용대상 종사자만을 상시근로자로 판단\n",
      "- 현업업무의 관리 및 집행행정 사무담당자는 공공행정에 해당하\n",
      "므로 상시근로자수 판단에서 제외하여야 함\n",
      "○ 지방자치단체에서 현업 종사자등의 안전·보건관리를 위해 안전\n",
      "보건관리체제 등을 갖추도록 할 경우\n",
      "- 지방자치단체를 하나의 사업장으로 보아 다양한 업무 종사자를\n",
      "하나의 적용단위로 판단할 때 업종판단은 가장 많은 비율을 차지' metadata={'source': '/Users/ranifarm/python-work/adaptive-rag/vectorstore/data/지방자치단체 산안법 적용 (산재예방정책과-3018 (2018.07.06. 시행).pdf', 'file_path': '/Users/ranifarm/python-work/adaptive-rag/vectorstore/data/지방자치단체 산안법 적용 (산재예방정책과-3018 (2018.07.06. 시행).pdf', 'page': 1, 'total_pages': 3, 'Author': 'dw', 'CreationDate': \"D:20241223160641+09'00'\", 'Creator': 'Hwp 2022 12.0.0.2416', 'ModDate': \"D:20241223160641+09'00'\", 'PDFVersion': '1.4', 'Producer': 'Hancom PDF 1.3.0.545'}\n",
      "[판단 결과]\n",
      "pass_yn='Y'\n",
      "3\n",
      "\n",
      "\n",
      "\n",
      "네, 산업안전보건법을 전부 적용 가능한 경우 지방자치단체 소속 공무직 및 공공근로 등 단기간 근로자수를 합산하여 총 근로자수로 판단 가능합니다. 다만, 법 적용을 위한 상시근로자수 판단 시 해당 조문이 적용되는 범위에서의 상시근로자수를 판단해야 하며, 현업업무의 관리 및 집행행정 사무담당자는 공공행정에 해당하므로 상시근로자수 판단에서 제외해야 합니다.\n",
      "\n",
      "**Source**\n",
      "- 지방자치단체 산안법 적용 (산재예방정책과-3018 (2018.07.06. 시행).pdf, page 3\n"
     ]
    }
   ],
   "source": [
    "# 2 확인 완료 (grade_documents_chain) >> 아래 generation 부분과 같이 확인 필요.\n",
    "project_root = os.path.abspath(\"..\")  # unit_test의 상위 디렉토리\n",
    "pdf_path = os.path.join(\n",
    "    project_root,\n",
    "    \"vectorstore\", \"data\", \"지방자치단체 산안법 적용 (산재예방정책과-3018 (2018.07.06. 시행).pdf\"\n",
    ")\n",
    "\n",
    "pdf = PDFRetrievalChain([pdf_path]).create_chain()\n",
    "\n",
    "# retriever 생성\n",
    "pdf_retriever = pdf.retriever\n",
    "# chain 생성\n",
    "pdf_chain = pdf.chain\n",
    "\n",
    "docs = pdf_retriever.invoke(q1)\n",
    "print(len(docs))\n",
    "\n",
    "filtered_docs = []\n",
    "\n",
    "for doc in docs[:5]:\n",
    "    res = grade_documents_chain().invoke(\n",
    "        {\"document\": doc,\n",
    "         \"question\": q2}\n",
    "    )\n",
    "\n",
    "    print('==============')\n",
    "    print('[검토 내용]')\n",
    "    print(doc)\n",
    "    print('[판단 결과]')\n",
    "    print(res)\n",
    "\n",
    "    if res.pass_yn == \"Y\":\n",
    "        filtered_docs.append(doc)\n",
    "\n",
    "print(len(filtered_docs))\n",
    "\n",
    "\n",
    "# 3 확인 완료 (generate_chain)\n",
    "\n",
    "# 문서 포맷팅 함수\n",
    "def format_docs(docs):\n",
    "    return \"\\n\\n\".join(\n",
    "        [\n",
    "            f'<document><content>{doc.page_content}</content><source>{doc.metadata[\"source\"]}</source><page>{doc.metadata[\"page\"]+1}</page></document>'\n",
    "            for doc in docs\n",
    "        ]\n",
    "    )\n",
    "print('\\n\\n')\n",
    "generation = generate_chain().invoke({\"context\": format_docs(filtered_docs), \"question\": q2})\n",
    "print(generation)"
   ]
  },
  {
   "cell_type": "code",
   "execution_count": null,
   "id": "255d1d00",
   "metadata": {},
   "outputs": [
    {
     "data": {
      "text/plain": [
       "GradeHallucinations(pass_yn='Y')"
      ]
     },
     "execution_count": 6,
     "metadata": {},
     "output_type": "execute_result"
    }
   ],
   "source": [
    "# 4.확인 완료\n",
    "grade_hallucination_chain().invoke({\"documents\": filtered_docs, \"generation\": generation})"
   ]
  },
  {
   "cell_type": "code",
   "execution_count": null,
   "id": "6d44500c",
   "metadata": {},
   "outputs": [
    {
     "data": {
      "text/plain": [
       "GradeQuestionAnswer(pass_yn='Y')"
      ]
     },
     "execution_count": 7,
     "metadata": {},
     "output_type": "execute_result"
    }
   ],
   "source": [
    "# 5. 확인 완료\n",
    "grade_answer_chain().invoke({\"question\": q2, \"generation\": generation})"
   ]
  },
  {
   "cell_type": "code",
   "execution_count": 3,
   "id": "dfc67b0e",
   "metadata": {},
   "outputs": [
    {
     "data": {
      "text/plain": [
       "AIMessage(content='산업안전보건법 적용 시 지방자치단체의 총 근로자 수 산정에 공무직과 단기 근로자를 포함할 수 있는지?', additional_kwargs={}, response_metadata={'id': 'msg_01Anqz75JS5VYdcWEDSz4tQi', 'model': 'claude-3-5-sonnet-20240620', 'stop_reason': 'end_turn', 'stop_sequence': None, 'usage': {'cache_creation_input_tokens': 0, 'cache_read_input_tokens': 0, 'input_tokens': 207, 'output_tokens': 60, 'server_tool_use': None}, 'model_name': 'claude-3-5-sonnet-20240620'}, id='run--f531c424-32a0-4ec7-9072-5fbe8a22799f-0', usage_metadata={'input_tokens': 207, 'output_tokens': 60, 'total_tokens': 267, 'input_token_details': {'cache_read': 0, 'cache_creation': 0}})"
      ]
     },
     "execution_count": 3,
     "metadata": {},
     "output_type": "execute_result"
    }
   ],
   "source": [
    "# 6. 확인 완료\n",
    "rewrite_query_chain().invoke({\"question\": q2})"
   ]
  },
  {
   "cell_type": "markdown",
   "id": "ab089b7c",
   "metadata": {},
   "source": [
    "tool test"
   ]
  },
  {
   "cell_type": "code",
   "execution_count": 2,
   "id": "6ba167d2",
   "metadata": {},
   "outputs": [
    {
     "data": {
      "text/plain": [
       "[{'title': 'AI와 관련된 뉴스기사나 신문기사 찾아줘 | 물어봐 AI - 요즘IT - 위시켓',\n",
       "  'url': 'https://yozm.wishket.com/magazine/questions/share/hKcbDAsWdguIPFtK/',\n",
       "  'content': '네, AI와 관련된 뉴스나 신문 기사를 찾아 볼게요. 요고가 신문을 찾는 데 시간이 좀 걸릴 거 같아서, 잠시 기다려 주시겠어요? 저는 이제 빠르게 신문기사를 찾아볼',\n",
       "  'score': 0.68090034}]"
      ]
     },
     "execution_count": 2,
     "metadata": {},
     "output_type": "execute_result"
    }
   ],
   "source": [
    "tavily_search().invoke(\"AI 기사 찾아줘\")"
   ]
  },
  {
   "cell_type": "markdown",
   "id": "1b008617",
   "metadata": {},
   "source": [
    "graph drawing"
   ]
  },
  {
   "cell_type": "code",
   "execution_count": null,
   "id": "3c86a3ca",
   "metadata": {},
   "outputs": [
    {
     "data": {
      "image/png": "[encoded data removed]",
      "text/plain": [
       "<IPython.core.display.Image object>"
      ]
     },
     "metadata": {},
     "output_type": "display_data"
    },
    {
     "name": "stdout",
     "output_type": "stream",
     "text": [
      "---\n",
      "config:\n",
      "  flowchart:\n",
      "    curve: linear\n",
      "---\n",
      "graph TD;\n",
      "\t__start__([<p>__start__</p>]):::first\n",
      "\tweb_search(web_search)\n",
      "\tgenerate(generate)\n",
      "\ttransform_query(transform_query)\n",
      "\tretrieve(retrieve)\n",
      "\tgrade_documents(grade_documents)\n",
      "\t__end__([<p>__end__</p>]):::last\n",
      "\t__start__ -. &nbsp;vector&nbsp; .-> retrieve;\n",
      "\t__start__ -. &nbsp;search&nbsp; .-> web_search;\n",
      "\tgenerate -. &nbsp;relevant&nbsp; .-> __end__;\n",
      "\tgenerate -. &nbsp;irrelevant&nbsp; .-> transform_query;\n",
      "\tgrade_documents -. &nbsp;relevant&nbsp; .-> generate;\n",
      "\tgrade_documents -. &nbsp;irrelevant&nbsp; .-> transform_query;\n",
      "\tretrieve --> grade_documents;\n",
      "\ttransform_query --> retrieve;\n",
      "\tweb_search --> generate;\n",
      "\tgrade_documents -.-> __end__;\n",
      "\tgenerate -. &nbsp;hallucination&nbsp; .-> generate;\n",
      "\tclassDef default fill:#f2f0ff,line-height:1.2\n",
      "\tclassDef first fill-opacity:0\n",
      "\tclassDef last fill:#bfb6fc\n",
      "\n"
     ]
    }
   ],
   "source": [
    "from langchain_cli.langgraph import studio\n",
    "\n",
    "project_root = os.path.abspath(\"..\")  # unit_test의 상위 디렉토리\n",
    "sys.path.append(project_root)\n",
    "\n",
    "app = build_workflow()\n",
    "\n",
    "\n",
    "try:\n",
    "    display(Image(app.get_graph().draw_mermaid_png()))\n",
    "except Exception:\n",
    "    # This requires some extra dependencies and is optional\n",
    "    pass\n",
    "\n",
    "print((app.get_graph().draw_mermaid()))"
   ]
  },
  {
   "cell_type": "code",
   "execution_count": 3,
   "id": "b71dd2c3",
   "metadata": {},
   "outputs": [
    {
     "name": "stdout",
     "output_type": "stream",
     "text": [
      "======== [EDGE] ROUTE_VECTOR_OR_WEBSEARCH ========\n",
      "\n",
      "==================================================\n",
      "🔄 Node: \u001b[1;36m__start__\u001b[0m 🔄\n",
      "- - - - - - - - - - - - - - - - - - - - - - - - - \n",
      "[][{'id': 'toolu_01JeUbcKzYSfxffQfy8aJDMG', 'input': {}, 'name': 'RouteQuery', 'type': 'tool_use', 'index': 0}][{'partial_json': '', 'type': 'tool_use', 'index': 0}][{'partial_json': '{\"ne', 'type': 'tool_use', 'index': 0}][{'partial_json': 'xt_node\": ', 'type': 'tool_use', 'index': 0}][{'partial_json': '\"search\"}', 'type': 'tool_use', 'index': 0}]======== [ROUTE] SEARCH ========\n",
      "======== [NODE] WEB_SEARCH ========\n",
      "======== [NODE] GENERATE ========\n",
      "{'question': '범죄 개선', 'documents': [Document(metadata={'source': 'https://www.korea.kr/news/policyNewsView.do?newsId=148913314'}, page_content='법무부는 “제1차 범죄예방 환경개선 기본계획의 수립·시행으로 범죄로부터 국민 불안을 해소하고 안전한 사회를 실현할 수 있도록 노력하겠다”고 밝혔다.'), Document(metadata={'source': 'https://www.moj.go.kr/moj/170/subview.do'}, page_content='주요 추진 내용 · 전국 9개 지역에서 범죄예방 환경개선사업 추진 · 지역 특색(외국인 집단 거주지, 유흥가 집집지 등), 주거 형태(원룸, 빌라, 아파트 등), 범죄 유형'), Document(metadata={'source': 'https://crimeprevention.joins.com/sub03.asp'}, page_content='범죄예방정책\\n\\n범죄예방 환경개선 사업 | 제도적 기반 마련\\n경찰청 CPTED 예산을 활용하여 전국 여성안심귀갓길 등범죄취약지 대상 환경개선을 추진하는 여성범죄예방인프라 구축 사업 추진* ’18~’19. 매년 4.8억원 투입, ’20~’22. 매년 30억원 투입22년에는 경찰청 CPTED 표준안을 제작▲CPTED기법(디자인, 도시건축 설계)▲관계법령∙조례 ▲진단∙분석 방법 ▲방범제품 등 권장 가이드라인 제시 | ‘범죄예방기반 조성법 입법 노력’ 으로 예방적 경찰활동의패러다임을 선도하고,지역사회의 범죄예방 활동 참여 촉진‘범죄안전지수 개발’ 로 안전한 동네 만든다▲범죄안전자원 ▲범죄안전활동 ▲범죄발생▲기초질서 위반 ▲체감안전도 등 5개 영역아래 31개 지표를 도입해 지역맞춤형 컨설팅 추진\\n▲범죄안전자원 ▲범죄안전활동 ▲범죄발생\\r\\n\\t\\t\\t\\t\\t\\t\\t\\t\\t▲기초질서 위반 ▲체감안전도 등 5개 영역 [...] 순찰활동 정비 | 협력치안 확대 [...] 탄력순찰‘17. 10월부터 온·오프라인으로주민 순찰희망 시간· 장소 수렴 후 순찰계획에 반영지역안전순찰‘20. 9월부터 부터 순찰활동 중 주민에게 다가가지역 치안문제 등 의견 청취 후 불안요인에 대한 해결방안을 마련하는 순찰 체계1. 장소(탄력순찰)-방법(지역안전순찰) 등으로 통합,선제적∙예방적 순찰체계로 지역맞춤형 순찰 활성화2. 차세대 순찰제도 시범운영∙연구- 치안 수요가 적은 희망 경찰서 대상 순찰차 대수 및 순찰시간대를 조정하는 등순찰 효과 연구 추진- 지자체와 협업, 규제 샌드박스를 활용해 드론, 로봇순찰 시범운영 | 경찰 전 기능이 모여 지역 치안문제를 종합적으로 논의하고지역사회와 함께 문제해결 방안을 모색하는 ‘지역공동체치안 협의체’ 의외부협업 및 범죄예방∙사회적약자 보호 중심 운영 추진자방대법 「자율방범대설치 및 운영에 관한 법률」 제정(22.4.26. 입법)으로, 자율방범대의 활동을 증진하고지역사회 안전에 기여「경비업법」 상 신규 경비업무를 추가하여 경비산업의규모를')]}\n",
      "\n",
      "==================================================\n",
      "🔄 Node: \u001b[1;36mgenerate\u001b[0m 🔄\n",
      "- - - - - - - - - - - - - - - - - - - - - - - - - \n",
      "법무부는 제1차 범죄예방 환경개선 기본계획을 수립·시행하여 국민 불안을 해소하고 안전한 사회를 실현하고자 함. 전국 9개 지역에서 범죄예방 환경개선사업을 추진하며, 지역 특색, 주거 형태, 범죄 유형 등을 고려함. 경찰청은 CPTED 예산을 활용해 여성안심귀갓길 등 범죄취약지 환경개선을 추진하고, 범죄안전지수 개발, 지역맞춤형 순찰 활성화, 지역공동체치안 협의체 운영 등을 통해 범죄 개선에 노력하고 있음.\n",
      "\n",
      "**Source**\n",
      "- https://www.korea.kr/news/policyNewsView.do?newsId=148913314\n",
      "- https://www.moj.go.kr/moj/170/subview.do\n",
      "- https://crimeprevention.joins.com/sub03.asp======== [EDGE] ROUTE_HALLUCINATION_CHECK ========\n",
      "[][{'id': 'toolu_01EPcwBMYdnGNa1N8r1efqDy', 'input': {}, 'name': 'GradeHallucinations', 'type': 'tool_use', 'index': 0}][{'partial_json': '', 'type': 'tool_use', 'index': 0}][{'partial_json': '{\"pas', 'type': 'tool_use', 'index': 0}][{'partial_json': 's_yn\": \"Y', 'type': 'tool_use', 'index': 0}][{'partial_json': '\"}', 'type': 'tool_use', 'index': 0}][][{'id': 'toolu_01SQaEaD1WdLjBGb64Jne5js', 'input': {}, 'name': 'GradeQuestionAnswer', 'type': 'tool_use', 'index': 0}][{'partial_json': '', 'type': 'tool_use', 'index': 0}][{'partial_json': '{\"pass_yn', 'type': 'tool_use', 'index': 0}][{'partial_json': '\": \"Y\"}', 'type': 'tool_use', 'index': 0}]======== [ROUTE] IRRELEVANT ========\n",
      "======== [NODE] TRANSFORM QUERY ========\n",
      "\n",
      "==================================================\n",
      "🔄 Node: \u001b[1;36mtransform_query\u001b[0m 🔄\n",
      "- - - - - - - - - - - - - - - - - - - - - - - - - \n",
      "범죄율 감소 방안"
     ]
    },
    {
     "name": "stderr",
     "output_type": "stream",
     "text": [
      "CropBox missing from /Page, defaulting to MediaBox\n",
      "CropBox missing from /Page, defaulting to MediaBox\n",
      "CropBox missing from /Page, defaulting to MediaBox\n"
     ]
    },
    {
     "name": "stdout",
     "output_type": "stream",
     "text": [
      "======== [NODE] RETRIEVE ========\n"
     ]
    },
    {
     "name": "stderr",
     "output_type": "stream",
     "text": [
      "/Users/ranifarm/.conda/envs/adaptive-rag/lib/python3.11/site-packages/tqdm/auto.py:21: TqdmWarning: IProgress not found. Please update jupyter and ipywidgets. See https://ipywidgets.readthedocs.io/en/stable/user_install.html\n",
      "  from .autonotebook import tqdm as notebook_tqdm\n"
     ]
    },
    {
     "name": "stdout",
     "output_type": "stream",
     "text": [
      "[DEBUG] embedding 객체 타입: <class 'langchain_huggingface.embeddings.huggingface.HuggingFaceEmbeddings'>\n",
      "======== [NODE] GRADE DOCUMENTS ========\n",
      "\n",
      "==================================================\n",
      "🔄 Node: \u001b[1;36mgrade_documents\u001b[0m 🔄\n",
      "- - - - - - - - - - - - - - - - - - - - - - - - - \n",
      "[][{'id': 'toolu_01BTSZswemk6xVKWJ6CMDLEe', 'input': {}, 'name': 'GradeDocuments', 'type': 'tool_use', 'index': 0}][{'partial_json': '', 'type': 'tool_use', 'index': 0}][{'partial_json': '{\"', 'type': 'tool_use', 'index': 0}][{'partial_json': 'pas', 'type': 'tool_use', 'index': 0}][{'partial_json': 's_yn\": \"N\"}', 'type': 'tool_use', 'index': 0}]======== [NODE:CHECK] IRRELEVANT DOCUMENT ========\n",
      "[][{'id': 'toolu_01TYzHjXHcamyD5yihvDozLk', 'input': {}, 'name': 'GradeDocuments', 'type': 'tool_use', 'index': 0}][{'partial_json': '', 'type': 'tool_use', 'index': 0}][{'partial_json': '{\"pass_yn\":', 'type': 'tool_use', 'index': 0}][{'partial_json': ' \"N\"}', 'type': 'tool_use', 'index': 0}]======== [NODE:CHECK] IRRELEVANT DOCUMENT ========\n",
      "[][{'id': 'toolu_01WnkTXnghkhfMkuW4dgWvcn', 'input': {}, 'name': 'GradeDocuments', 'type': 'tool_use', 'index': 0}][{'partial_json': '', 'type': 'tool_use', 'index': 0}][{'partial_json': '{\"pass_y', 'type': 'tool_use', 'index': 0}][{'partial_json': 'n\": \"N\"}', 'type': 'tool_use', 'index': 0}]======== [NODE:CHECK] IRRELEVANT DOCUMENT ========\n",
      "[][{'id': 'toolu_01AQijXz25u5BrzEC8EJTnst', 'input': {}, 'name': 'GradeDocuments', 'type': 'tool_use', 'index': 0}][{'partial_json': '', 'type': 'tool_use', 'index': 0}][{'partial_json': '{\"p', 'type': 'tool_use', 'index': 0}][{'partial_json': 'ass_yn\": \"N\"}', 'type': 'tool_use', 'index': 0}]======== [NODE:CHECK] IRRELEVANT DOCUMENT ========\n",
      "[][{'id': 'toolu_01BUPmzvgq13MCkBeRtqExhq', 'input': {}, 'name': 'GradeDocuments', 'type': 'tool_use', 'index': 0}][{'partial_json': '', 'type': 'tool_use', 'index': 0}][{'partial_json': '{\"pass_yn', 'type': 'tool_use', 'index': 0}][{'partial_json': '\": \"N\"}', 'type': 'tool_use', 'index': 0}]======== [NODE:CHECK] IRRELEVANT DOCUMENT ========\n",
      "[][{'id': 'toolu_01DkJW8RnFzfyPVJuiYqf9rk', 'input': {}, 'name': 'GradeDocuments', 'type': 'tool_use', 'index': 0}][{'partial_json': '', 'type': 'tool_use', 'index': 0}][{'partial_json': '{\"pass_yn\": ', 'type': 'tool_use', 'index': 0}]======== [NODE:CHECK] IRRELEVANT DOCUMENT ========\n",
      "[{'partial_json': '\"N\"}', 'type': 'tool_use', 'index': 0}][][{'id': 'toolu_01Mj5ZsNSieUBsMV6z6gmWCm', 'input': {}, 'name': 'GradeDocuments', 'type': 'tool_use', 'index': 0}][{'partial_json': '', 'type': 'tool_use', 'index': 0}][{'partial_json': '{\"pa', 'type': 'tool_use', 'index': 0}][{'partial_json': 'ss_yn\": \"N\"}', 'type': 'tool_use', 'index': 0}]======== [NODE:CHECK] IRRELEVANT DOCUMENT ========\n",
      "[][{'id': 'toolu_011PX6QyuvEZGgF9sBacRUCd', 'input': {}, 'name': 'GradeDocuments', 'type': 'tool_use', 'index': 0}][{'partial_json': '', 'type': 'tool_use', 'index': 0}][{'partial_json': '{\"p', 'type': 'tool_use', 'index': 0}][{'partial_json': 'ass_', 'type': 'tool_use', 'index': 0}][{'partial_json': 'yn\": \"N', 'type': 'tool_use', 'index': 0}][{'partial_json': '\"}', 'type': 'tool_use', 'index': 0}]======== [NODE:CHECK] IRRELEVANT DOCUMENT ========\n",
      "[][{'id': 'toolu_011bbnMbEbumZHcdQs6srb9k', 'input': {}, 'name': 'GradeDocuments', 'type': 'tool_use', 'index': 0}][{'partial_json': '', 'type': 'tool_use', 'index': 0}][{'partial_json': '{\"pass_yn\"', 'type': 'tool_use', 'index': 0}][{'partial_json': ': ', 'type': 'tool_use', 'index': 0}][{'partial_json': '\"N\"}', 'type': 'tool_use', 'index': 0}]======== [NODE:CHECK] IRRELEVANT DOCUMENT ========\n",
      "[][{'id': 'toolu_012uFihoX8KSKPbrQuBDBJ1M', 'input': {}, 'name': 'GradeDocuments', 'type': 'tool_use', 'index': 0}][{'partial_json': '', 'type': 'tool_use', 'index': 0}][{'partial_json': '{\"pass_yn', 'type': 'tool_use', 'index': 0}][{'partial_json': '\": \"N\"}', 'type': 'tool_use', 'index': 0}]======== [NODE:CHECK] IRRELEVANT DOCUMENT ========\n",
      "======== [EDGE] ROUTE_GENERATE_BY_RELEVANCE ========\n",
      "======== [ROUTE] RELEVANT ========\n",
      "======== [NODE] GENERATE ========\n",
      "{'question': AIMessage(content='범죄율 감소 방안', additional_kwargs={}, response_metadata={'model_name': 'claude-3-5-sonnet-20240620', 'stop_reason': 'end_turn', 'stop_sequence': None}, id='run--564fc587-caa8-4f81-9d04-83dbf56fbd82', usage_metadata={'input_tokens': 139, 'output_tokens': 14, 'total_tokens': 153, 'input_token_details': {'cache_creation': 0, 'cache_read': 0}}), 'generate_message': '법무부는 제1차 범죄예방 환경개선 기본계획을 수립·시행하여 국민 불안을 해소하고 안전한 사회를 실현하고자 함. 전국 9개 지역에서 범죄예방 환경개선사업을 추진하며, 지역 특색, 주거 형태, 범죄 유형 등을 고려함. 경찰청은 CPTED 예산을 활용해 여성안심귀갓길 등 범죄취약지 환경개선을 추진하고, 범죄안전지수 개발, 지역맞춤형 순찰 활성화, 지역공동체치안 협의체 운영 등을 통해 범죄 개선에 노력하고 있음.\\n\\n**Source**\\n- https://www.korea.kr/news/policyNewsView.do?newsId=148913314\\n- https://www.moj.go.kr/moj/170/subview.do\\n- https://crimeprevention.joins.com/sub03.asp', 'documents': []}\n",
      "\n",
      "==================================================\n",
      "🔄 Node: \u001b[1;36mgenerate\u001b[0m 🔄\n",
      "- - - - - - - - - - - - - - - - - - - - - - - - - \n",
      "I don't have enough information from the provided context to answer this question about methods to reduce crime rates. The context provided is empty, so I cannot make any claims or provide specific recommendations on this topic.======== [EDGE] ROUTE_HALLUCINATION_CHECK ========\n",
      "[][{'id': 'toolu_014UMePmoz7YqLWxEuDsoeZJ', 'input': {}, 'name': 'GradeHallucinations', 'type': 'tool_use', 'index': 0}][{'partial_json': '', 'type': 'tool_use', 'index': 0}][{'partial_json': '{\"pass_yn\":', 'type': 'tool_use', 'index': 0}][{'partial_json': ' \"Y\"}', 'type': 'tool_use', 'index': 0}][][{'id': 'toolu_01X8Mpi9KABLcjToVNRMXPGB', 'input': {}, 'name': 'GradeQuestionAnswer', 'type': 'tool_use', 'index': 0}][{'partial_json': '', 'type': 'tool_use', 'index': 0}][{'partial_json': '{\"pass_yn\":', 'type': 'tool_use', 'index': 0}][{'partial_json': ' \"N\"}', 'type': 'tool_use', 'index': 0}]======== [ROUTE] IRRELEVANT ========\n",
      "======== [NODE] TRANSFORM QUERY ========\n",
      "\n",
      "==================================================\n",
      "🔄 Node: \u001b[1;36mtransform_query\u001b[0m 🔄\n",
      "- - - - - - - - - - - - - - - - - - - - - - - - - \n",
      "효과적인 범죄 예방 및 감소 전략에는 어떤 것들이 있는가?"
     ]
    },
    {
     "name": "stderr",
     "output_type": "stream",
     "text": [
      "CropBox missing from /Page, defaulting to MediaBox\n",
      "CropBox missing from /Page, defaulting to MediaBox\n",
      "CropBox missing from /Page, defaulting to MediaBox\n"
     ]
    },
    {
     "name": "stdout",
     "output_type": "stream",
     "text": [
      "======== [NODE] RETRIEVE ========\n",
      "[DEBUG] embedding 객체 타입: <class 'langchain_huggingface.embeddings.huggingface.HuggingFaceEmbeddings'>\n",
      "======== [NODE] GRADE DOCUMENTS ========\n",
      "\n",
      "==================================================\n",
      "🔄 Node: \u001b[1;36mgrade_documents\u001b[0m 🔄\n",
      "- - - - - - - - - - - - - - - - - - - - - - - - - \n",
      "[][{'id': 'toolu_01M2eqrP8RiCWFiBPnDCK2Za', 'input': {}, 'name': 'GradeDocuments', 'type': 'tool_use', 'index': 0}][{'partial_json': '', 'type': 'tool_use', 'index': 0}][{'partial_json': '{\"pass_y', 'type': 'tool_use', 'index': 0}][{'partial_json': 'n\": \"N\"}', 'type': 'tool_use', 'index': 0}]======== [NODE:CHECK] IRRELEVANT DOCUMENT ========\n",
      "[][{'id': 'toolu_01J8z831iqbBy6UBstL9DjN4', 'input': {}, 'name': 'GradeDocuments', 'type': 'tool_use', 'index': 0}][{'partial_json': '', 'type': 'tool_use', 'index': 0}][{'partial_json': '{\"p', 'type': 'tool_use', 'index': 0}][{'partial_json': 'ass_yn\": \"', 'type': 'tool_use', 'index': 0}][{'partial_json': 'N\"}', 'type': 'tool_use', 'index': 0}]======== [NODE:CHECK] IRRELEVANT DOCUMENT ========\n",
      "[][{'id': 'toolu_01CU8GXd7RSLMxZwTzdKcjQc', 'input': {}, 'name': 'GradeDocuments', 'type': 'tool_use', 'index': 0}][{'partial_json': '', 'type': 'tool_use', 'index': 0}][{'partial_json': '{\"', 'type': 'tool_use', 'index': 0}][{'partial_json': 'pass_yn\": ', 'type': 'tool_use', 'index': 0}][{'partial_json': '\"N\"}', 'type': 'tool_use', 'index': 0}]======== [NODE:CHECK] IRRELEVANT DOCUMENT ========\n",
      "[][{'id': 'toolu_015q3D1bFCH9vS3DupicKytd', 'input': {}, 'name': 'GradeDocuments', 'type': 'tool_use', 'index': 0}][{'partial_json': '', 'type': 'tool_use', 'index': 0}][{'partial_json': '{\"pa', 'type': 'tool_use', 'index': 0}][{'partial_json': 'ss_', 'type': 'tool_use', 'index': 0}][{'partial_json': 'yn\": \"N\"}', 'type': 'tool_use', 'index': 0}]======== [NODE:CHECK] IRRELEVANT DOCUMENT ========\n",
      "[][{'id': 'toolu_01Bxg2PemPE87TDUFicwojKM', 'input': {}, 'name': 'GradeDocuments', 'type': 'tool_use', 'index': 0}][{'partial_json': '', 'type': 'tool_use', 'index': 0}][{'partial_json': '{\"pass_yn\": ', 'type': 'tool_use', 'index': 0}][{'partial_json': '\"N\"}', 'type': 'tool_use', 'index': 0}]======== [NODE:CHECK] IRRELEVANT DOCUMENT ========\n",
      "[][{'id': 'toolu_01CWNTqgtTZCzSeQa7ahDW3x', 'input': {}, 'name': 'GradeDocuments', 'type': 'tool_use', 'index': 0}][{'partial_json': '', 'type': 'tool_use', 'index': 0}][{'partial_json': '{\"pass_y', 'type': 'tool_use', 'index': 0}][{'partial_json': 'n\": \"N\"}', 'type': 'tool_use', 'index': 0}]======== [NODE:CHECK] IRRELEVANT DOCUMENT ========\n",
      "[][{'id': 'toolu_01YHszwqPcnxaPGW3uYKmxzT', 'input': {}, 'name': 'GradeDocuments', 'type': 'tool_use', 'index': 0}][{'partial_json': '', 'type': 'tool_use', 'index': 0}][{'partial_json': '{\"pass_', 'type': 'tool_use', 'index': 0}][{'partial_json': 'yn\": \"N\"}', 'type': 'tool_use', 'index': 0}]======== [NODE:CHECK] IRRELEVANT DOCUMENT ========\n",
      "[][{'id': 'toolu_018ghqYXFz2WMLLFbjF6T1HZ', 'input': {}, 'name': 'GradeDocuments', 'type': 'tool_use', 'index': 0}][{'partial_json': '', 'type': 'tool_use', 'index': 0}][{'partial_json': '{\"pass_yn', 'type': 'tool_use', 'index': 0}][{'partial_json': '\": \"N', 'type': 'tool_use', 'index': 0}][{'partial_json': '\"}', 'type': 'tool_use', 'index': 0}]======== [NODE:CHECK] IRRELEVANT DOCUMENT ========\n",
      "[][{'id': 'toolu_01GF1HTdz4aYmiKQ3YDQac1P', 'input': {}, 'name': 'GradeDocuments', 'type': 'tool_use', 'index': 0}][{'partial_json': '', 'type': 'tool_use', 'index': 0}][{'partial_json': '{\"', 'type': 'tool_use', 'index': 0}][{'partial_json': 'pass', 'type': 'tool_use', 'index': 0}][{'partial_json': '_yn\": ', 'type': 'tool_use', 'index': 0}][{'partial_json': '\"N\"}', 'type': 'tool_use', 'index': 0}]======== [NODE:CHECK] IRRELEVANT DOCUMENT ========\n",
      "[][{'id': 'toolu_01RzjGBMXLRgqoZYA6d3aoVe', 'input': {}, 'name': 'GradeDocuments', 'type': 'tool_use', 'index': 0}][{'partial_json': '', 'type': 'tool_use', 'index': 0}][{'partial_json': '{\"pass_yn\":', 'type': 'tool_use', 'index': 0}][{'partial_json': ' \"N\"}', 'type': 'tool_use', 'index': 0}]======== [NODE:CHECK] IRRELEVANT DOCUMENT ========\n",
      "======== [EDGE] ROUTE_GENERATE_BY_RELEVANCE ========\n",
      "======== [ROUTE] RELEVANT ========\n",
      "======== [NODE] GENERATE ========\n",
      "{'question': AIMessage(content='효과적인 범죄 예방 및 감소 전략에는 어떤 것들이 있는가?', additional_kwargs={}, response_metadata={'model_name': 'claude-3-5-sonnet-20240620', 'stop_reason': 'end_turn', 'stop_sequence': None}, id='run--b76aff14-f99e-47b3-9b99-509fa8af9b72', usage_metadata={'input_tokens': 275, 'output_tokens': 38, 'total_tokens': 313, 'input_token_details': {'cache_creation': 0, 'cache_read': 0}}), 'generate_message': \"I don't have enough information from the provided context to answer this question about methods to reduce crime rates. The context provided is empty, so I cannot make any claims or provide specific recommendations on this topic.\", 'documents': []}\n",
      "\n",
      "==================================================\n",
      "🔄 Node: \u001b[1;36mgenerate\u001b[0m 🔄\n",
      "- - - - - - - - - - - - - - - - - - - - - - - - - \n",
      "죄송합니다. 제공된 맥락 정보가 없어 이 질문에 대해 정확하게 답변할 수 있는 정보가 없습니다. 효과적인 범죄 예방 및 감소 전략에 대해 신뢰할 수 있는 답변을 드리기 위해서는 관련 연구나 데이터가 필요합니다.======== [EDGE] ROUTE_HALLUCINATION_CHECK ========\n",
      "[][{'id': 'toolu_011FgjBv1WkBFLrRcmA3AkXS', 'input': {}, 'name': 'GradeHallucinations', 'type': 'tool_use', 'index': 0}][{'partial_json': '', 'type': 'tool_use', 'index': 0}][{'partial_json': '{\"pass', 'type': 'tool_use', 'index': 0}][{'partial_json': '_yn\": ', 'type': 'tool_use', 'index': 0}][{'partial_json': '\"Y\"}', 'type': 'tool_use', 'index': 0}][][{'id': 'toolu_01PFWJgxvuSJz1BeL6uCUTT6', 'input': {}, 'name': 'GradeQuestionAnswer', 'type': 'tool_use', 'index': 0}][{'partial_json': '', 'type': 'tool_use', 'index': 0}][{'partial_json': '{\"pass_', 'type': 'tool_use', 'index': 0}][{'partial_json': 'yn\": \"N\"}', 'type': 'tool_use', 'index': 0}]======== [ROUTE] IRRELEVANT ========\n"
     ]
    },
    {
     "ename": "GraphRecursionError",
     "evalue": "Recursion limit of 10 reached without hitting a stop condition. You can increase the limit by setting the `recursion_limit` config key.\nFor troubleshooting, visit: https://python.langchain.com/docs/troubleshooting/errors/GRAPH_RECURSION_LIMIT",
     "output_type": "error",
     "traceback": [
      "\u001b[31m---------------------------------------------------------------------------\u001b[39m",
      "\u001b[31mGraphRecursionError\u001b[39m                       Traceback (most recent call last)",
      "\u001b[36mCell\u001b[39m\u001b[36m \u001b[39m\u001b[32mIn[3]\u001b[39m\u001b[32m, line 9\u001b[39m\n\u001b[32m      5\u001b[39m inputs = {\n\u001b[32m      6\u001b[39m     \u001b[33m\"\u001b[39m\u001b[33mquestion\u001b[39m\u001b[33m\"\u001b[39m: \u001b[33m\"\u001b[39m\u001b[33m범죄 개선\u001b[39m\u001b[33m\"\u001b[39m,\n\u001b[32m      7\u001b[39m }\n\u001b[32m      8\u001b[39m \u001b[38;5;66;03m# 그래프 실행\u001b[39;00m\n\u001b[32m----> \u001b[39m\u001b[32m9\u001b[39m \u001b[43mstream_graph\u001b[49m\u001b[43m(\u001b[49m\u001b[43mapp\u001b[49m\u001b[43m,\u001b[49m\u001b[43m \u001b[49m\u001b[43minputs\u001b[49m\u001b[43m,\u001b[49m\u001b[43m \u001b[49m\u001b[43mconfig\u001b[49m\u001b[43m)\u001b[49m\n",
      "\u001b[36mFile \u001b[39m\u001b[32m~/.conda/envs/adaptive-rag/lib/python3.11/site-packages/langchain_teddynote/messages.py:363\u001b[39m, in \u001b[36mstream_graph\u001b[39m\u001b[34m(graph, inputs, config, node_names, callback)\u001b[39m\n\u001b[32m    348\u001b[39m \u001b[38;5;250m\u001b[39m\u001b[33;03m\"\"\"\u001b[39;00m\n\u001b[32m    349\u001b[39m \u001b[33;03mLangGraph의 실행 결과를 스트리밍하여 출력하는 함수입니다.\u001b[39;00m\n\u001b[32m    350\u001b[39m \n\u001b[32m   (...)\u001b[39m\u001b[32m    360\u001b[39m \u001b[33;03m    None: 함수는 스트리밍 결과를 출력만 하고 반환값은 없습니다.\u001b[39;00m\n\u001b[32m    361\u001b[39m \u001b[33;03m\"\"\"\u001b[39;00m\n\u001b[32m    362\u001b[39m prev_node = \u001b[33m\"\u001b[39m\u001b[33m\"\u001b[39m\n\u001b[32m--> \u001b[39m\u001b[32m363\u001b[39m \u001b[43m\u001b[49m\u001b[38;5;28;43;01mfor\u001b[39;49;00m\u001b[43m \u001b[49m\u001b[43mchunk_msg\u001b[49m\u001b[43m,\u001b[49m\u001b[43m \u001b[49m\u001b[43mmetadata\u001b[49m\u001b[43m \u001b[49m\u001b[38;5;129;43;01min\u001b[39;49;00m\u001b[43m \u001b[49m\u001b[43mgraph\u001b[49m\u001b[43m.\u001b[49m\u001b[43mstream\u001b[49m\u001b[43m(\u001b[49m\u001b[43minputs\u001b[49m\u001b[43m,\u001b[49m\u001b[43m \u001b[49m\u001b[43mconfig\u001b[49m\u001b[43m,\u001b[49m\u001b[43m \u001b[49m\u001b[43mstream_mode\u001b[49m\u001b[43m=\u001b[49m\u001b[33;43m\"\u001b[39;49m\u001b[33;43mmessages\u001b[39;49m\u001b[33;43m\"\u001b[39;49m\u001b[43m)\u001b[49m\u001b[43m:\u001b[49m\n\u001b[32m    364\u001b[39m \u001b[43m    \u001b[49m\u001b[43mcurr_node\u001b[49m\u001b[43m \u001b[49m\u001b[43m=\u001b[49m\u001b[43m \u001b[49m\u001b[43mmetadata\u001b[49m\u001b[43m[\u001b[49m\u001b[33;43m\"\u001b[39;49m\u001b[33;43mlanggraph_node\u001b[39;49m\u001b[33;43m\"\u001b[39;49m\u001b[43m]\u001b[49m\n\u001b[32m    366\u001b[39m \u001b[43m    \u001b[49m\u001b[38;5;66;43;03m# node_names가 비어있거나 현재 노드가 node_names에 있는 경우에만 처리\u001b[39;49;00m\n",
      "\u001b[36mFile \u001b[39m\u001b[32m~/.conda/envs/adaptive-rag/lib/python3.11/site-packages/langgraph/pregel/__init__.py:2547\u001b[39m, in \u001b[36mPregel.stream\u001b[39m\u001b[34m(self, input, config, stream_mode, output_keys, interrupt_before, interrupt_after, checkpoint_during, debug, subgraphs)\u001b[39m\n\u001b[32m   2538\u001b[39m \u001b[38;5;28;01mif\u001b[39;00m loop.status == \u001b[33m\"\u001b[39m\u001b[33mout_of_steps\u001b[39m\u001b[33m\"\u001b[39m:\n\u001b[32m   2539\u001b[39m     msg = create_error_message(\n\u001b[32m   2540\u001b[39m         message=(\n\u001b[32m   2541\u001b[39m             \u001b[33mf\u001b[39m\u001b[33m\"\u001b[39m\u001b[33mRecursion limit of \u001b[39m\u001b[38;5;132;01m{\u001b[39;00mconfig[\u001b[33m'\u001b[39m\u001b[33mrecursion_limit\u001b[39m\u001b[33m'\u001b[39m]\u001b[38;5;132;01m}\u001b[39;00m\u001b[33m reached \u001b[39m\u001b[33m\"\u001b[39m\n\u001b[32m   (...)\u001b[39m\u001b[32m   2545\u001b[39m         error_code=ErrorCode.GRAPH_RECURSION_LIMIT,\n\u001b[32m   2546\u001b[39m     )\n\u001b[32m-> \u001b[39m\u001b[32m2547\u001b[39m     \u001b[38;5;28;01mraise\u001b[39;00m GraphRecursionError(msg)\n\u001b[32m   2548\u001b[39m \u001b[38;5;66;03m# set final channel values as run output\u001b[39;00m\n\u001b[32m   2549\u001b[39m run_manager.on_chain_end(loop.output)\n",
      "\u001b[31mGraphRecursionError\u001b[39m: Recursion limit of 10 reached without hitting a stop condition. You can increase the limit by setting the `recursion_limit` config key.\nFor troubleshooting, visit: https://python.langchain.com/docs/troubleshooting/errors/GRAPH_RECURSION_LIMIT"
     ]
    }
   ],
   "source": [
    "# config 설정(재귀 최대 횟수, thread_id)\n",
    "config = RunnableConfig(recursion_limit=10, configurable={\"thread_id\": random_uuid()})\n",
    "\n",
    "# 질문 입력\n",
    "inputs = {\n",
    "    \"question\": \"범죄 개선\",\n",
    "}\n",
    "# 그래프 실행\n",
    "stream_graph(app, inputs, config)"
   ]
  },
  {
   "cell_type": "code",
   "execution_count": null,
   "id": "2b159ad8",
   "metadata": {},
   "outputs": [],
   "source": []
  }
 ],
 "metadata": {
  "kernelspec": {
   "display_name": "adaptive-rag",
   "language": "python",
   "name": "python3"
  },
  "language_info": {
   "codemirror_mode": {
    "name": "ipython",
    "version": 3
   },
   "file_extension": ".py",
   "mimetype": "text/x-python",
   "name": "python",
   "nbconvert_exporter": "python",
   "pygments_lexer": "ipython3",
   "version": "3.11.11"
  }
 },
 "nbformat": 4,
 "nbformat_minor": 5
}
