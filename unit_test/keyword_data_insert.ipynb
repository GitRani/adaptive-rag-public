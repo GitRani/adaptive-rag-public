{
 "cells": [
  {
   "cell_type": "code",
   "execution_count": 1,
   "id": "c716f8fe",
   "metadata": {},
   "outputs": [
    {
     "name": "stdout",
     "output_type": "stream",
     "text": [
      "Collecting psycopg2-binary\n",
      "  Using cached psycopg2_binary-2.9.10-cp311-cp311-macosx_14_0_arm64.whl.metadata (4.9 kB)\n",
      "Using cached psycopg2_binary-2.9.10-cp311-cp311-macosx_14_0_arm64.whl (3.3 MB)\n",
      "Installing collected packages: psycopg2-binary\n",
      "Successfully installed psycopg2-binary-2.9.10\n",
      "Note: you may need to restart the kernel to use updated packages.\n"
     ]
    }
   ],
   "source": [
    "pip install psycopg2-binary"
   ]
  },
  {
   "cell_type": "markdown",
   "id": "acdb0ac5",
   "metadata": {},
   "source": [
    "<h1>환경변수 설정</h1>"
   ]
  },
  {
   "cell_type": "code",
   "execution_count": null,
   "id": "d74352a1",
   "metadata": {},
   "outputs": [
    {
     "name": "stdout",
     "output_type": "stream",
     "text": [
      "5432\n"
     ]
    }
   ],
   "source": [
    "from dotenv import load_dotenv\n",
    "import os\n",
    "import psycopg2\n",
    "\n",
    "load_dotenv()\n",
    "\n",
    "POSTGRE_DB_NAME = os.getenv(\"POSTGRE_DB_NAME\")\n",
    "POSTGRE_DB_USER = os.getenv(\"POSTGRE_DB_USER\")\n",
    "POSTGRE_DB_HOST = os.getenv(\"POSTGRE_DB_HOST\")\n",
    "POSTGRE_DB_PORT = os.getenv(\"POSTGRE_DB_PORT\")\n",
    "POSTGRE_DB_PASSWORD = os.getenv(\"POSTGRE_DB_PASSWORD\")\n",
    "\n",
    "# env value check\n",
    "print(POSTGRE_DB_PORT)"
   ]
  },
  {
   "cell_type": "code",
   "execution_count": null,
   "id": "806fa345",
   "metadata": {},
   "outputs": [],
   "source": [
    "conn = psycopg2.connect(\n",
    "        dbname=POSTGRE_DB_NAME,\n",
    "        user=POSTGRE_DB_USER,\n",
    "        host=POSTGRE_DB_HOST,\n",
    "        port=POSTGRE_DB_PORT,\n",
    "        password=POSTGRE_DB_PASSWORD\n",
    "    )\n",
    "\n",
    "\n",
    "try:\n",
    "    # 비밀번호 없이 연결\n",
    "    with conn.cursor() as cursor:        \n",
    "        cursor = conn.cursor()\n",
    "        cursor.execute(\"SELECT * FROM documents;\")\n",
    "        print(cursor.fetchall())\n",
    "\n",
    "except Exception as e:\n",
    "    print(f\"Error: {e}\")\n",
    "\n",
    "finally:\n",
    "    conn.close()\n",
    "    print('db 연결 종료!')"
   ]
  },
  {
   "cell_type": "markdown",
   "id": "2626cd4b",
   "metadata": {},
   "source": [
    "<h1></h1>"
   ]
  },
  {
   "cell_type": "code",
   "execution_count": null,
   "id": "9eb8af87",
   "metadata": {},
   "outputs": [],
   "source": []
  }
 ],
 "metadata": {
  "kernelspec": {
   "display_name": "adaptive-rag",
   "language": "python",
   "name": "python3"
  },
  "language_info": {
   "codemirror_mode": {
    "name": "ipython",
    "version": 3
   },
   "file_extension": ".py",
   "mimetype": "text/x-python",
   "name": "python",
   "nbconvert_exporter": "python",
   "pygments_lexer": "ipython3",
   "version": "3.11.11"
  }
 },
 "nbformat": 4,
 "nbformat_minor": 5
}
