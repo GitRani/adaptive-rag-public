{
 "cells": [
  {
   "cell_type": "code",
   "execution_count": 2,
   "id": "f706220e",
   "metadata": {},
   "outputs": [
    {
     "name": "stdout",
     "output_type": "stream",
     "text": [
      "Collecting pymilvus\n",
      "  Downloading pymilvus-2.5.10-py3-none-any.whl.metadata (5.7 kB)\n",
      "Requirement already satisfied: sentence_transformers in /Users/ranifarm/.conda/envs/adaptive-rag/lib/python3.11/site-packages (4.1.0)\n",
      "Requirement already satisfied: setuptools>69 in /Users/ranifarm/.conda/envs/adaptive-rag/lib/python3.11/site-packages (from pymilvus) (78.1.1)\n",
      "Collecting grpcio<=1.67.1,>=1.49.1 (from pymilvus)\n",
      "  Using cached grpcio-1.67.1-cp311-cp311-macosx_10_9_universal2.whl.metadata (3.9 kB)\n",
      "Requirement already satisfied: protobuf>=3.20.0 in /Users/ranifarm/.conda/envs/adaptive-rag/lib/python3.11/site-packages (from pymilvus) (5.29.4)\n",
      "Requirement already satisfied: python-dotenv<2.0.0,>=1.0.1 in /Users/ranifarm/.conda/envs/adaptive-rag/lib/python3.11/site-packages (from pymilvus) (1.1.0)\n",
      "Collecting ujson>=2.0.0 (from pymilvus)\n",
      "  Using cached ujson-5.10.0-cp311-cp311-macosx_11_0_arm64.whl.metadata (9.3 kB)\n",
      "Requirement already satisfied: pandas>=1.2.4 in /Users/ranifarm/.conda/envs/adaptive-rag/lib/python3.11/site-packages (from pymilvus) (2.2.3)\n",
      "Collecting milvus-lite>=2.4.0 (from pymilvus)\n",
      "  Using cached milvus_lite-2.4.12-py3-none-macosx_11_0_arm64.whl.metadata (10.0 kB)\n",
      "Requirement already satisfied: transformers<5.0.0,>=4.41.0 in /Users/ranifarm/.conda/envs/adaptive-rag/lib/python3.11/site-packages (from sentence_transformers) (4.52.1)\n",
      "Requirement already satisfied: tqdm in /Users/ranifarm/.conda/envs/adaptive-rag/lib/python3.11/site-packages (from sentence_transformers) (4.67.1)\n",
      "Requirement already satisfied: torch>=1.11.0 in /Users/ranifarm/.conda/envs/adaptive-rag/lib/python3.11/site-packages (from sentence_transformers) (2.7.0)\n",
      "Requirement already satisfied: scikit-learn in /Users/ranifarm/.conda/envs/adaptive-rag/lib/python3.11/site-packages (from sentence_transformers) (1.6.1)\n",
      "Requirement already satisfied: scipy in /Users/ranifarm/.conda/envs/adaptive-rag/lib/python3.11/site-packages (from sentence_transformers) (1.15.3)\n",
      "Requirement already satisfied: huggingface-hub>=0.20.0 in /Users/ranifarm/.conda/envs/adaptive-rag/lib/python3.11/site-packages (from sentence_transformers) (0.31.4)\n",
      "Requirement already satisfied: Pillow in /Users/ranifarm/.conda/envs/adaptive-rag/lib/python3.11/site-packages (from sentence_transformers) (11.2.1)\n",
      "Requirement already satisfied: typing_extensions>=4.5.0 in /Users/ranifarm/.conda/envs/adaptive-rag/lib/python3.11/site-packages (from sentence_transformers) (4.13.2)\n",
      "Requirement already satisfied: filelock in /Users/ranifarm/.conda/envs/adaptive-rag/lib/python3.11/site-packages (from transformers<5.0.0,>=4.41.0->sentence_transformers) (3.18.0)\n",
      "Requirement already satisfied: numpy>=1.17 in /Users/ranifarm/.conda/envs/adaptive-rag/lib/python3.11/site-packages (from transformers<5.0.0,>=4.41.0->sentence_transformers) (1.26.4)\n",
      "Requirement already satisfied: packaging>=20.0 in /Users/ranifarm/.conda/envs/adaptive-rag/lib/python3.11/site-packages (from transformers<5.0.0,>=4.41.0->sentence_transformers) (24.2)\n",
      "Requirement already satisfied: pyyaml>=5.1 in /Users/ranifarm/.conda/envs/adaptive-rag/lib/python3.11/site-packages (from transformers<5.0.0,>=4.41.0->sentence_transformers) (6.0.2)\n",
      "Requirement already satisfied: regex!=2019.12.17 in /Users/ranifarm/.conda/envs/adaptive-rag/lib/python3.11/site-packages (from transformers<5.0.0,>=4.41.0->sentence_transformers) (2024.11.6)\n",
      "Requirement already satisfied: requests in /Users/ranifarm/.conda/envs/adaptive-rag/lib/python3.11/site-packages (from transformers<5.0.0,>=4.41.0->sentence_transformers) (2.32.3)\n",
      "Requirement already satisfied: tokenizers<0.22,>=0.21 in /Users/ranifarm/.conda/envs/adaptive-rag/lib/python3.11/site-packages (from transformers<5.0.0,>=4.41.0->sentence_transformers) (0.21.1)\n",
      "Requirement already satisfied: safetensors>=0.4.3 in /Users/ranifarm/.conda/envs/adaptive-rag/lib/python3.11/site-packages (from transformers<5.0.0,>=4.41.0->sentence_transformers) (0.5.3)\n",
      "Requirement already satisfied: fsspec>=2023.5.0 in /Users/ranifarm/.conda/envs/adaptive-rag/lib/python3.11/site-packages (from huggingface-hub>=0.20.0->sentence_transformers) (2025.5.0)\n",
      "Requirement already satisfied: python-dateutil>=2.8.2 in /Users/ranifarm/.conda/envs/adaptive-rag/lib/python3.11/site-packages (from pandas>=1.2.4->pymilvus) (2.9.0.post0)\n",
      "Requirement already satisfied: pytz>=2020.1 in /Users/ranifarm/.conda/envs/adaptive-rag/lib/python3.11/site-packages (from pandas>=1.2.4->pymilvus) (2025.2)\n",
      "Requirement already satisfied: tzdata>=2022.7 in /Users/ranifarm/.conda/envs/adaptive-rag/lib/python3.11/site-packages (from pandas>=1.2.4->pymilvus) (2025.2)\n",
      "Requirement already satisfied: six>=1.5 in /Users/ranifarm/.conda/envs/adaptive-rag/lib/python3.11/site-packages (from python-dateutil>=2.8.2->pandas>=1.2.4->pymilvus) (1.17.0)\n",
      "Requirement already satisfied: sympy>=1.13.3 in /Users/ranifarm/.conda/envs/adaptive-rag/lib/python3.11/site-packages (from torch>=1.11.0->sentence_transformers) (1.14.0)\n",
      "Requirement already satisfied: networkx in /Users/ranifarm/.conda/envs/adaptive-rag/lib/python3.11/site-packages (from torch>=1.11.0->sentence_transformers) (3.4.2)\n",
      "Requirement already satisfied: jinja2 in /Users/ranifarm/.conda/envs/adaptive-rag/lib/python3.11/site-packages (from torch>=1.11.0->sentence_transformers) (3.1.6)\n",
      "Requirement already satisfied: mpmath<1.4,>=1.1.0 in /Users/ranifarm/.conda/envs/adaptive-rag/lib/python3.11/site-packages (from sympy>=1.13.3->torch>=1.11.0->sentence_transformers) (1.3.0)\n",
      "Requirement already satisfied: MarkupSafe>=2.0 in /Users/ranifarm/.conda/envs/adaptive-rag/lib/python3.11/site-packages (from jinja2->torch>=1.11.0->sentence_transformers) (3.0.2)\n",
      "Requirement already satisfied: charset-normalizer<4,>=2 in /Users/ranifarm/.conda/envs/adaptive-rag/lib/python3.11/site-packages (from requests->transformers<5.0.0,>=4.41.0->sentence_transformers) (3.4.2)\n",
      "Requirement already satisfied: idna<4,>=2.5 in /Users/ranifarm/.conda/envs/adaptive-rag/lib/python3.11/site-packages (from requests->transformers<5.0.0,>=4.41.0->sentence_transformers) (3.10)\n",
      "Requirement already satisfied: urllib3<3,>=1.21.1 in /Users/ranifarm/.conda/envs/adaptive-rag/lib/python3.11/site-packages (from requests->transformers<5.0.0,>=4.41.0->sentence_transformers) (2.4.0)\n",
      "Requirement already satisfied: certifi>=2017.4.17 in /Users/ranifarm/.conda/envs/adaptive-rag/lib/python3.11/site-packages (from requests->transformers<5.0.0,>=4.41.0->sentence_transformers) (2025.4.26)\n",
      "Requirement already satisfied: joblib>=1.2.0 in /Users/ranifarm/.conda/envs/adaptive-rag/lib/python3.11/site-packages (from scikit-learn->sentence_transformers) (1.5.0)\n",
      "Requirement already satisfied: threadpoolctl>=3.1.0 in /Users/ranifarm/.conda/envs/adaptive-rag/lib/python3.11/site-packages (from scikit-learn->sentence_transformers) (3.6.0)\n",
      "Downloading pymilvus-2.5.10-py3-none-any.whl (227 kB)\n",
      "Using cached grpcio-1.67.1-cp311-cp311-macosx_10_9_universal2.whl (11.0 MB)\n",
      "Using cached milvus_lite-2.4.12-py3-none-macosx_11_0_arm64.whl (17.4 MB)\n",
      "Using cached ujson-5.10.0-cp311-cp311-macosx_11_0_arm64.whl (51 kB)\n",
      "Installing collected packages: ujson, milvus-lite, grpcio, pymilvus\n",
      "\u001b[2K  Attempting uninstall: grpcio0m\u001b[90m━━━━━━━━━━━━━━━━━━━━━━━━━━━━━\u001b[0m \u001b[32m1/4\u001b[0m [milvus-lite]\n",
      "\u001b[2K    Found existing installation: grpcio 1.71.0━━━━━━━━━━━━━━━━\u001b[0m \u001b[32m1/4\u001b[0m [milvus-lite]\n",
      "\u001b[2K    Uninstalling grpcio-1.71.0:0m━━━━━━━━━━━━━━━━━━━━━━━━━━━━━\u001b[0m \u001b[32m1/4\u001b[0m [milvus-lite]\n",
      "\u001b[2K      Successfully uninstalled grpcio-1.71.0━━━━━━━━━━━━━━━━━━\u001b[0m \u001b[32m1/4\u001b[0m [milvus-lite]\n",
      "\u001b[2K   \u001b[90m━━━━━━━━━━━━━━━━━━━━━━━━━━━━━━━━━━━━━━━━\u001b[0m \u001b[32m4/4\u001b[0m [pymilvus]3/4\u001b[0m [pymilvus]\n",
      "\u001b[1A\u001b[2KSuccessfully installed grpcio-1.67.1 milvus-lite-2.4.12 pymilvus-2.5.10 ujson-5.10.0\n"
     ]
    }
   ],
   "source": [
    "!pip install pymilvus sentence_transformers"
   ]
  },
  {
   "cell_type": "code",
   "execution_count": 1,
   "id": "b871a7e4",
   "metadata": {},
   "outputs": [
    {
     "name": "stderr",
     "output_type": "stream",
     "text": [
      "/Users/ranifarm/.conda/envs/adaptive-rag/lib/python3.11/site-packages/tqdm/auto.py:21: TqdmWarning: IProgress not found. Please update jupyter and ipywidgets. See https://ipywidgets.readthedocs.io/en/stable/user_install.html\n",
      "  from .autonotebook import tqdm as notebook_tqdm\n"
     ]
    },
    {
     "data": {
      "text/plain": [
       "SentenceTransformer(\n",
       "  (0): Transformer({'max_seq_length': 8192, 'do_lower_case': False}) with Transformer model: XLMRobertaModel \n",
       "  (1): Pooling({'word_embedding_dimension': 1024, 'pooling_mode_cls_token': True, 'pooling_mode_mean_tokens': False, 'pooling_mode_max_tokens': False, 'pooling_mode_mean_sqrt_len_tokens': False, 'pooling_mode_weightedmean_tokens': False, 'pooling_mode_lasttoken': False, 'include_prompt': True})\n",
       "  (2): Normalize()\n",
       ")"
      ]
     },
     "execution_count": 1,
     "metadata": {},
     "output_type": "execute_result"
    }
   ],
   "source": [
    "from sentence_transformers import SentenceTransformer\n",
    "import torch\n",
    "\n",
    "# 디바이스 설정: MPS 사용\n",
    "device = \"mps\" if torch.backends.mps.is_available() else \"cpu\"\n",
    "# device = \"cpu\"\n",
    "# 모델 로드 및 디바이스 이동\n",
    "model = SentenceTransformer(\"BAAI/bge-m3\")\n",
    "model.to(device)"
   ]
  },
  {
   "cell_type": "code",
   "execution_count": null,
   "id": "0d44d346",
   "metadata": {},
   "outputs": [],
   "source": [
    "from pymilvus import MilvusClient, DataType\n",
    "\n",
    "milvus_client = MilvusClient(uri=\"./milvus_demo.db\")\n",
    "\n",
    "collection_name = \"my_rag_collection\""
   ]
  }
 ],
 "metadata": {
  "kernelspec": {
   "display_name": "adaptive-rag",
   "language": "python",
   "name": "python3"
  },
  "language_info": {
   "codemirror_mode": {
    "name": "ipython",
    "version": 3
   },
   "file_extension": ".py",
   "mimetype": "text/x-python",
   "name": "python",
   "nbconvert_exporter": "python",
   "pygments_lexer": "ipython3",
   "version": "3.11.11"
  }
 },
 "nbformat": 4,
 "nbformat_minor": 5
}
